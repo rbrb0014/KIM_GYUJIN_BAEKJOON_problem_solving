{
 "cells": [
  {
   "cell_type": "code",
   "execution_count": 1,
   "metadata": {},
   "outputs": [
    {
     "name": "stdout",
     "output_type": "stream",
     "text": [
      "What is the mean of apple?\n",
      "correct!\n",
      "What is the mean of banana?\n",
      "correct!\n",
      "What is the mean of cat?\n",
      "correct!\n",
      "What is the mean of dog?\n",
      "correct!\n"
     ]
    }
   ],
   "source": [
    "#문제로 쓸 단어들과 그에 대한 정답 순서대로 나열\n",
    "prob_list = ['apple', 'banana', 'cat', 'dog', 'elephant']\n",
    "sol_list = ['사과', '바나나', '고양이', '개', '코끼리']\n",
    "\n",
    "for prob_num in range(0, len(prob_list)):\n",
    "    # 문제 번호 랜덤으로 정해서 내줌\n",
    "    print('What is the mean of ' + prob_list[prob_num] + '?')\n",
    "    # 정답 받고 맞는지 확인\n",
    "    while(True):\n",
    "        in1 = input('My answer is : ')\n",
    "        if in1 == sol_list[prob_num]:\n",
    "            print('correct!')\n",
    "            break\n",
    "        else:\n",
    "            go_next = False\n",
    "            print('wrong answer.')\n",
    "            # 다시 맞춰볼지 선택\n",
    "            while(True):\n",
    "                in2 = input('Do you want to try it again? (y/n)')\n",
    "                if in2 == 'n':\n",
    "                    go_next = True\n",
    "                    break\n",
    "                elif in2 == 'y':\n",
    "                    go_next = False\n",
    "                    break\n",
    "                else:\n",
    "                    print('Wrong input.')\n",
    "            if go_next == True:\n",
    "                break\n",
    "            "
   ]
  }
 ],
 "metadata": {
  "interpreter": {
   "hash": "3f8ef3ab16cc3ffc679f9a0ad2b930ecdcb0dc35de75a6bf8ebd0064c1f72397"
  },
  "kernelspec": {
   "display_name": "Python 3.10.0 64-bit",
   "name": "python3"
  },
  "language_info": {
   "codemirror_mode": {
    "name": "ipython",
    "version": 3
   },
   "file_extension": ".py",
   "mimetype": "text/x-python",
   "name": "python",
   "nbconvert_exporter": "python",
   "pygments_lexer": "ipython3",
   "version": "3.10.0"
  },
  "orig_nbformat": 4
 },
 "nbformat": 4,
 "nbformat_minor": 2
}
